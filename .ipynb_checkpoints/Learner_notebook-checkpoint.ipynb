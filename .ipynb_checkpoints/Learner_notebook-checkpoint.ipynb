{
 "cells": [
  {
   "cell_type": "markdown",
   "metadata": {
    "id": "oiy1E55mYBY7"
   },
   "source": [
    "#Covid-19 Pre-existing Medical Condition Analysis using Plotly Express, Choropleth maps and WordCloud Text Visualization"
   ]
  },
  {
   "cell_type": "code",
   "execution_count": 24,
   "metadata": {
    "id": "I63l3xksXZzp"
   },
   "outputs": [],
   "source": [
    "## Switch to GPU mode for faster Computation (Runtime> Change runtime> GPU)"
   ]
  },
  {
   "cell_type": "markdown",
   "metadata": {
    "id": "95Cg3UK6YfB4"
   },
   "source": [
    "##Task 1 : Importing all the necessary libraries"
   ]
  },
  {
   "cell_type": "code",
   "execution_count": 25,
   "metadata": {
    "id": "tyDqe4sFYfp9"
   },
   "outputs": [],
   "source": [
    "import pandas as pd       #Data analysis and Manipulation\n",
    "import plotly.express as px    #Data Visualization (one line of code for one graph) \n",
    "import matplotlib.pyplot as plt   #Data Visualization for WordCloud\n",
    "from wordcloud import WordCloud   #Wordcloud Text Visualization\n"
   ]
  },
  {
   "cell_type": "code",
   "execution_count": 38,
   "metadata": {
    "id": "hG0VnKyUYzb-"
   },
   "outputs": [],
   "source": [
    "import plotly.io as pio\n",
    "pio.renderers.default = 'iframe'     # To initialize plotly (default mode of plotly if OFF as it consumes a lot of space)"
   ]
  },
  {
   "cell_type": "markdown",
   "metadata": {
    "id": "NFrlaaVCZ76Z"
   },
   "source": [
    "##Task 2 : Importing the dataset and Visualizing it (Dataset 1 : Worldometer dataset)"
   ]
  },
  {
   "cell_type": "code",
   "execution_count": 39,
   "metadata": {
    "id": "FPEvhxQMZ8lB"
   },
   "outputs": [],
   "source": [
    "covid_df = pd.read_csv('covid_worldometer_data.csv')"
   ]
  },
  {
   "cell_type": "code",
   "execution_count": 40,
   "metadata": {},
   "outputs": [],
   "source": [
    "medical_df = pd.read_csv('US_medical_data.csv')"
   ]
  },
  {
   "cell_type": "markdown",
   "metadata": {
    "id": "bnj2tfJcadcC"
   },
   "source": []
  },
  {
   "cell_type": "code",
   "execution_count": 41,
   "metadata": {
    "id": "Vhl0W7Kradqz",
    "scrolled": true
   },
   "outputs": [
    {
     "data": {
      "text/html": [
       "<div>\n",
       "<style scoped>\n",
       "    .dataframe tbody tr th:only-of-type {\n",
       "        vertical-align: middle;\n",
       "    }\n",
       "\n",
       "    .dataframe tbody tr th {\n",
       "        vertical-align: top;\n",
       "    }\n",
       "\n",
       "    .dataframe thead th {\n",
       "        text-align: right;\n",
       "    }\n",
       "</style>\n",
       "<table border=\"1\" class=\"dataframe\">\n",
       "  <thead>\n",
       "    <tr style=\"text-align: right;\">\n",
       "      <th></th>\n",
       "      <th>S.no</th>\n",
       "      <th>Country</th>\n",
       "      <th>TotalCases</th>\n",
       "      <th>TotalDeaths</th>\n",
       "      <th>Total Recovered</th>\n",
       "      <th>Active cases</th>\n",
       "      <th>Totalcases/1M</th>\n",
       "      <th>TotalDeath/1M</th>\n",
       "      <th>iso_alpha</th>\n",
       "    </tr>\n",
       "  </thead>\n",
       "  <tbody>\n",
       "    <tr>\n",
       "      <th>0</th>\n",
       "      <td>1</td>\n",
       "      <td>USA</td>\n",
       "      <td>23,848,410</td>\n",
       "      <td>397,994</td>\n",
       "      <td>14,112,119</td>\n",
       "      <td>9,338,297</td>\n",
       "      <td>71,822</td>\n",
       "      <td>1,199</td>\n",
       "      <td>USA</td>\n",
       "    </tr>\n",
       "    <tr>\n",
       "      <th>1</th>\n",
       "      <td>2</td>\n",
       "      <td>India</td>\n",
       "      <td>10,528,508</td>\n",
       "      <td>151,954</td>\n",
       "      <td>10,162,738</td>\n",
       "      <td>213,816</td>\n",
       "      <td>7,589</td>\n",
       "      <td>110</td>\n",
       "      <td>IND</td>\n",
       "    </tr>\n",
       "    <tr>\n",
       "      <th>2</th>\n",
       "      <td>3</td>\n",
       "      <td>Brazil</td>\n",
       "      <td>8,326,115</td>\n",
       "      <td>207,160</td>\n",
       "      <td>7,339,703</td>\n",
       "      <td>779,252</td>\n",
       "      <td>39,021</td>\n",
       "      <td>971</td>\n",
       "      <td>BRA</td>\n",
       "    </tr>\n",
       "    <tr>\n",
       "      <th>3</th>\n",
       "      <td>4</td>\n",
       "      <td>Russia</td>\n",
       "      <td>3,495,816</td>\n",
       "      <td>63,940</td>\n",
       "      <td>2,882,044</td>\n",
       "      <td>549,832</td>\n",
       "      <td>23,949</td>\n",
       "      <td>438</td>\n",
       "      <td>RUS</td>\n",
       "    </tr>\n",
       "    <tr>\n",
       "      <th>4</th>\n",
       "      <td>5</td>\n",
       "      <td>UK</td>\n",
       "      <td>3,260,258</td>\n",
       "      <td>86,015</td>\n",
       "      <td>1,406,967</td>\n",
       "      <td>1,767,276</td>\n",
       "      <td>47,890</td>\n",
       "      <td>1,263</td>\n",
       "      <td>UKR</td>\n",
       "    </tr>\n",
       "  </tbody>\n",
       "</table>\n",
       "</div>"
      ],
      "text/plain": [
       "   S.no Country  TotalCases TotalDeaths Total Recovered Active cases  \\\n",
       "0     1     USA  23,848,410     397,994      14,112,119    9,338,297   \n",
       "1     2   India  10,528,508     151,954      10,162,738      213,816   \n",
       "2     3  Brazil   8,326,115     207,160       7,339,703      779,252   \n",
       "3     4  Russia   3,495,816      63,940       2,882,044      549,832   \n",
       "4     5      UK   3,260,258      86,015       1,406,967    1,767,276   \n",
       "\n",
       "  Totalcases/1M TotalDeath/1M iso_alpha  \n",
       "0        71,822         1,199       USA  \n",
       "1         7,589           110       IND  \n",
       "2        39,021           971       BRA  \n",
       "3        23,949           438       RUS  \n",
       "4        47,890         1,263       UKR  "
      ]
     },
     "execution_count": 41,
     "metadata": {},
     "output_type": "execute_result"
    }
   ],
   "source": [
    "covid_df.head()"
   ]
  },
  {
   "cell_type": "code",
   "execution_count": 30,
   "metadata": {
    "id": "NcDp07QBaluA"
   },
   "outputs": [
    {
     "data": {
      "text/html": [
       "<div>\n",
       "<style scoped>\n",
       "    .dataframe tbody tr th:only-of-type {\n",
       "        vertical-align: middle;\n",
       "    }\n",
       "\n",
       "    .dataframe tbody tr th {\n",
       "        vertical-align: top;\n",
       "    }\n",
       "\n",
       "    .dataframe thead th {\n",
       "        text-align: right;\n",
       "    }\n",
       "</style>\n",
       "<table border=\"1\" class=\"dataframe\">\n",
       "  <thead>\n",
       "    <tr style=\"text-align: right;\">\n",
       "      <th></th>\n",
       "      <th>S.no</th>\n",
       "    </tr>\n",
       "  </thead>\n",
       "  <tbody>\n",
       "    <tr>\n",
       "      <th>count</th>\n",
       "      <td>221.000000</td>\n",
       "    </tr>\n",
       "    <tr>\n",
       "      <th>mean</th>\n",
       "      <td>111.000000</td>\n",
       "    </tr>\n",
       "    <tr>\n",
       "      <th>std</th>\n",
       "      <td>63.941379</td>\n",
       "    </tr>\n",
       "    <tr>\n",
       "      <th>min</th>\n",
       "      <td>1.000000</td>\n",
       "    </tr>\n",
       "    <tr>\n",
       "      <th>25%</th>\n",
       "      <td>56.000000</td>\n",
       "    </tr>\n",
       "    <tr>\n",
       "      <th>50%</th>\n",
       "      <td>111.000000</td>\n",
       "    </tr>\n",
       "    <tr>\n",
       "      <th>75%</th>\n",
       "      <td>166.000000</td>\n",
       "    </tr>\n",
       "    <tr>\n",
       "      <th>max</th>\n",
       "      <td>221.000000</td>\n",
       "    </tr>\n",
       "  </tbody>\n",
       "</table>\n",
       "</div>"
      ],
      "text/plain": [
       "             S.no\n",
       "count  221.000000\n",
       "mean   111.000000\n",
       "std     63.941379\n",
       "min      1.000000\n",
       "25%     56.000000\n",
       "50%    111.000000\n",
       "75%    166.000000\n",
       "max    221.000000"
      ]
     },
     "execution_count": 30,
     "metadata": {},
     "output_type": "execute_result"
    }
   ],
   "source": [
    "covid_df.describe()"
   ]
  },
  {
   "cell_type": "code",
   "execution_count": 42,
   "metadata": {
    "id": "NcDp07QBaluA"
   },
   "outputs": [
    {
     "data": {
      "text/html": [
       "<div>\n",
       "<style scoped>\n",
       "    .dataframe tbody tr th:only-of-type {\n",
       "        vertical-align: middle;\n",
       "    }\n",
       "\n",
       "    .dataframe tbody tr th {\n",
       "        vertical-align: top;\n",
       "    }\n",
       "\n",
       "    .dataframe thead th {\n",
       "        text-align: right;\n",
       "    }\n",
       "</style>\n",
       "<table border=\"1\" class=\"dataframe\">\n",
       "  <thead>\n",
       "    <tr style=\"text-align: right;\">\n",
       "      <th></th>\n",
       "      <th>S.no</th>\n",
       "      <th>Country</th>\n",
       "      <th>TotalCases</th>\n",
       "      <th>TotalDeaths</th>\n",
       "      <th>Total Recovered</th>\n",
       "      <th>Active cases</th>\n",
       "      <th>Totalcases/1M</th>\n",
       "      <th>TotalDeath/1M</th>\n",
       "      <th>iso_alpha</th>\n",
       "    </tr>\n",
       "  </thead>\n",
       "  <tbody>\n",
       "    <tr>\n",
       "      <th>0</th>\n",
       "      <td>1</td>\n",
       "      <td>USA</td>\n",
       "      <td>23,848,410</td>\n",
       "      <td>397,994</td>\n",
       "      <td>14,112,119</td>\n",
       "      <td>9,338,297</td>\n",
       "      <td>71,822</td>\n",
       "      <td>1,199</td>\n",
       "      <td>USA</td>\n",
       "    </tr>\n",
       "    <tr>\n",
       "      <th>1</th>\n",
       "      <td>2</td>\n",
       "      <td>India</td>\n",
       "      <td>10,528,508</td>\n",
       "      <td>151,954</td>\n",
       "      <td>10,162,738</td>\n",
       "      <td>213,816</td>\n",
       "      <td>7,589</td>\n",
       "      <td>110</td>\n",
       "      <td>IND</td>\n",
       "    </tr>\n",
       "    <tr>\n",
       "      <th>2</th>\n",
       "      <td>3</td>\n",
       "      <td>Brazil</td>\n",
       "      <td>8,326,115</td>\n",
       "      <td>207,160</td>\n",
       "      <td>7,339,703</td>\n",
       "      <td>779,252</td>\n",
       "      <td>39,021</td>\n",
       "      <td>971</td>\n",
       "      <td>BRA</td>\n",
       "    </tr>\n",
       "    <tr>\n",
       "      <th>3</th>\n",
       "      <td>4</td>\n",
       "      <td>Russia</td>\n",
       "      <td>3,495,816</td>\n",
       "      <td>63,940</td>\n",
       "      <td>2,882,044</td>\n",
       "      <td>549,832</td>\n",
       "      <td>23,949</td>\n",
       "      <td>438</td>\n",
       "      <td>RUS</td>\n",
       "    </tr>\n",
       "    <tr>\n",
       "      <th>4</th>\n",
       "      <td>5</td>\n",
       "      <td>UK</td>\n",
       "      <td>3,260,258</td>\n",
       "      <td>86,015</td>\n",
       "      <td>1,406,967</td>\n",
       "      <td>1,767,276</td>\n",
       "      <td>47,890</td>\n",
       "      <td>1,263</td>\n",
       "      <td>UKR</td>\n",
       "    </tr>\n",
       "    <tr>\n",
       "      <th>...</th>\n",
       "      <td>...</td>\n",
       "      <td>...</td>\n",
       "      <td>...</td>\n",
       "      <td>...</td>\n",
       "      <td>...</td>\n",
       "      <td>...</td>\n",
       "      <td>...</td>\n",
       "      <td>...</td>\n",
       "      <td>...</td>\n",
       "    </tr>\n",
       "    <tr>\n",
       "      <th>216</th>\n",
       "      <td>217</td>\n",
       "      <td>Wallis and Futuna</td>\n",
       "      <td>4</td>\n",
       "      <td></td>\n",
       "      <td>1</td>\n",
       "      <td>3</td>\n",
       "      <td>359</td>\n",
       "      <td>NaN</td>\n",
       "      <td>WLF</td>\n",
       "    </tr>\n",
       "    <tr>\n",
       "      <th>217</th>\n",
       "      <td>218</td>\n",
       "      <td>Samoa</td>\n",
       "      <td>2</td>\n",
       "      <td></td>\n",
       "      <td>2</td>\n",
       "      <td>0</td>\n",
       "      <td>10</td>\n",
       "      <td>NaN</td>\n",
       "      <td>WSM</td>\n",
       "    </tr>\n",
       "    <tr>\n",
       "      <th>218</th>\n",
       "      <td>219</td>\n",
       "      <td>Micronesia</td>\n",
       "      <td>1</td>\n",
       "      <td></td>\n",
       "      <td>NaN</td>\n",
       "      <td>1</td>\n",
       "      <td>9</td>\n",
       "      <td>NaN</td>\n",
       "      <td>FSM</td>\n",
       "    </tr>\n",
       "    <tr>\n",
       "      <th>219</th>\n",
       "      <td>220</td>\n",
       "      <td>Vanuatu</td>\n",
       "      <td>1</td>\n",
       "      <td></td>\n",
       "      <td>1</td>\n",
       "      <td>0</td>\n",
       "      <td>3</td>\n",
       "      <td>NaN</td>\n",
       "      <td>VUT</td>\n",
       "    </tr>\n",
       "    <tr>\n",
       "      <th>220</th>\n",
       "      <td>221</td>\n",
       "      <td>China</td>\n",
       "      <td>87,988</td>\n",
       "      <td>4,635</td>\n",
       "      <td>82,352</td>\n",
       "      <td>1,001</td>\n",
       "      <td>61</td>\n",
       "      <td>3</td>\n",
       "      <td>CHN</td>\n",
       "    </tr>\n",
       "  </tbody>\n",
       "</table>\n",
       "<p>221 rows × 9 columns</p>\n",
       "</div>"
      ],
      "text/plain": [
       "     S.no            Country  TotalCases TotalDeaths Total Recovered  \\\n",
       "0       1                USA  23,848,410     397,994      14,112,119   \n",
       "1       2              India  10,528,508     151,954      10,162,738   \n",
       "2       3             Brazil   8,326,115     207,160       7,339,703   \n",
       "3       4             Russia   3,495,816      63,940       2,882,044   \n",
       "4       5                 UK   3,260,258      86,015       1,406,967   \n",
       "..    ...                ...         ...         ...             ...   \n",
       "216   217  Wallis and Futuna           4                           1   \n",
       "217   218              Samoa           2                           2   \n",
       "218   219         Micronesia           1                         NaN   \n",
       "219   220            Vanuatu           1                           1   \n",
       "220   221              China      87,988       4,635          82,352   \n",
       "\n",
       "    Active cases Totalcases/1M TotalDeath/1M iso_alpha  \n",
       "0      9,338,297        71,822         1,199       USA  \n",
       "1        213,816         7,589           110       IND  \n",
       "2        779,252        39,021           971       BRA  \n",
       "3        549,832        23,949           438       RUS  \n",
       "4      1,767,276        47,890         1,263       UKR  \n",
       "..           ...           ...           ...       ...  \n",
       "216            3           359           NaN       WLF  \n",
       "217            0            10           NaN       WSM  \n",
       "218            1             9           NaN       FSM  \n",
       "219            0             3           NaN       VUT  \n",
       "220        1,001            61             3       CHN  \n",
       "\n",
       "[221 rows x 9 columns]"
      ]
     },
     "execution_count": 42,
     "metadata": {},
     "output_type": "execute_result"
    }
   ],
   "source": [
    "covid_df"
   ]
  },
  {
   "cell_type": "code",
   "execution_count": 63,
   "metadata": {},
   "outputs": [
    {
     "data": {
      "text/plain": [
       "0      23,848,410\n",
       "1      10,528,508\n",
       "2       8,326,115\n",
       "3       3,495,816\n",
       "4       3,260,258\n",
       "          ...    \n",
       "216             4\n",
       "217             2\n",
       "218             1\n",
       "219             1\n",
       "220        87,988\n",
       "Name: TotalCases, Length: 221, dtype: object"
      ]
     },
     "execution_count": 63,
     "metadata": {},
     "output_type": "execute_result"
    }
   ],
   "source": [
    "covid_df.loc[:,'TotalCases']"
   ]
  },
  {
   "cell_type": "code",
   "execution_count": 65,
   "metadata": {},
   "outputs": [
    {
     "data": {
      "text/plain": [
       "0      23,848,410\n",
       "1      10,528,508\n",
       "2       8,326,115\n",
       "3       3,495,816\n",
       "4       3,260,258\n",
       "          ...    \n",
       "216             4\n",
       "217             2\n",
       "218             1\n",
       "219             1\n",
       "220        87,988\n",
       "Name: TotalCases, Length: 221, dtype: object"
      ]
     },
     "execution_count": 65,
     "metadata": {},
     "output_type": "execute_result"
    }
   ],
   "source": [
    "covid_df['TotalCases']"
   ]
  },
  {
   "cell_type": "code",
   "execution_count": 56,
   "metadata": {
    "id": "qd0mHOxqalyq"
   },
   "outputs": [
    {
     "data": {
      "text/html": [
       "<iframe\n",
       "    scrolling=\"no\"\n",
       "    width=\"100%\"\n",
       "    height=\"545px\"\n",
       "    src=\"iframe_figures/figure_56.html\"\n",
       "    frameborder=\"0\"\n",
       "    allowfullscreen\n",
       "></iframe>\n"
      ]
     },
     "metadata": {},
     "output_type": "display_data"
    }
   ],
   "source": [
    "px.bar(covid_df.head(20), x='Country', y='TotalCases',color='Country')"
   ]
  },
  {
   "cell_type": "code",
   "execution_count": 54,
   "metadata": {
    "id": "WQRZAfzJam5F"
   },
   "outputs": [
    {
     "data": {
      "text/html": [
       "<iframe\n",
       "    scrolling=\"no\"\n",
       "    width=\"100%\"\n",
       "    height=\"545px\"\n",
       "    src=\"iframe_figures/figure_54.html\"\n",
       "    frameborder=\"0\"\n",
       "    allowfullscreen\n",
       "></iframe>\n"
      ]
     },
     "metadata": {},
     "output_type": "display_data"
    }
   ],
   "source": [
    "px.bar(covid_df.head(20), x = 'Country', y = 'TotalDeaths',color = 'Country')"
   ]
  },
  {
   "cell_type": "code",
   "execution_count": 45,
   "metadata": {
    "scrolled": true
   },
   "outputs": [
    {
     "data": {
      "text/plain": [
       "Index(['S.no', 'Country', 'TotalCases', 'TotalDeaths', 'Total Recovered',\n",
       "       'Active cases', 'Totalcases/1M', 'TotalDeath/1M', 'iso_alpha'],\n",
       "      dtype='object')"
      ]
     },
     "execution_count": 45,
     "metadata": {},
     "output_type": "execute_result"
    }
   ],
   "source": [
    "covid_df.columns"
   ]
  },
  {
   "cell_type": "code",
   "execution_count": 47,
   "metadata": {},
   "outputs": [
    {
     "data": {
      "text/html": [
       "<iframe\n",
       "    scrolling=\"no\"\n",
       "    width=\"100%\"\n",
       "    height=\"545px\"\n",
       "    src=\"iframe_figures/figure_47.html\"\n",
       "    frameborder=\"0\"\n",
       "    allowfullscreen\n",
       "></iframe>\n"
      ]
     },
     "metadata": {},
     "output_type": "display_data"
    }
   ],
   "source": [
    "px.scatter(covid_df.head(15),x='Totalcases/1M', y='TotalDeath/1M', color='Country')"
   ]
  },
  {
   "cell_type": "code",
   "execution_count": null,
   "metadata": {},
   "outputs": [],
   "source": []
  },
  {
   "cell_type": "markdown",
   "metadata": {
    "id": "eOmxA-CHazns"
   },
   "source": [
    "##Task 3: Geographic Visualization using Choropleth maps"
   ]
  },
  {
   "cell_type": "code",
   "execution_count": null,
   "metadata": {},
   "outputs": [],
   "source": []
  },
  {
   "cell_type": "code",
   "execution_count": 36,
   "metadata": {
    "id": "RrHNwZcKbIMZ"
   },
   "outputs": [],
   "source": [
    "# A choropleth map displays divided geographical areas or regions that are coloured, shaded or patterned in relation to a data variable. \n",
    "#Amazing Representation of data in a map . Choropleth maps provide an easy way to visualize how a measurement varies across a geographic area.\n",
    "\n",
    "#Dataset 1\n",
    "#parameters= dataset, locations= ISOALPHA, color, hover_name, color_continuous_scale= [RdYlGn, Blues, Viridis...], \n",
    "#"
   ]
  },
  {
   "cell_type": "code",
   "execution_count": null,
   "metadata": {
    "id": "k-Ut-vPWbJgO"
   },
   "outputs": [],
   "source": []
  },
  {
   "cell_type": "code",
   "execution_count": null,
   "metadata": {
    "id": "TzLU7oKJb-Qv"
   },
   "outputs": [],
   "source": []
  },
  {
   "cell_type": "code",
   "execution_count": null,
   "metadata": {
    "id": "xpd8saa1bJ7I"
   },
   "outputs": [],
   "source": []
  },
  {
   "cell_type": "markdown",
   "metadata": {
    "id": "X9AMtNC0bKWt"
   },
   "source": [
    "##Task 4: Importing and Analyzing the dataset(Dataset 2: Covid-19 Pre-existing condition Medical dataset; source: CDC,US)"
   ]
  },
  {
   "cell_type": "code",
   "execution_count": null,
   "metadata": {
    "id": "qtUsuHY8cWXA"
   },
   "outputs": [],
   "source": []
  },
  {
   "cell_type": "code",
   "execution_count": null,
   "metadata": {
    "id": "88O3p0xjcgPV"
   },
   "outputs": [],
   "source": []
  },
  {
   "cell_type": "code",
   "execution_count": null,
   "metadata": {
    "id": "GknPfLf-cgUW"
   },
   "outputs": [],
   "source": []
  },
  {
   "cell_type": "code",
   "execution_count": null,
   "metadata": {
    "id": "HWPRlYORcgaN"
   },
   "outputs": [],
   "source": []
  },
  {
   "cell_type": "markdown",
   "metadata": {
    "id": "IK6E5J-ccscZ"
   },
   "source": [
    "##Task 5: Visualizing the Pre-existing condition Medical dataset"
   ]
  },
  {
   "cell_type": "code",
   "execution_count": null,
   "metadata": {
    "id": "UOQiQ9u-c0dW"
   },
   "outputs": [],
   "source": []
  },
  {
   "cell_type": "code",
   "execution_count": null,
   "metadata": {
    "id": "K2SuEKGdc--1"
   },
   "outputs": [],
   "source": []
  },
  {
   "cell_type": "code",
   "execution_count": null,
   "metadata": {
    "id": "YmBb4kwsc_I7"
   },
   "outputs": [],
   "source": []
  },
  {
   "cell_type": "code",
   "execution_count": null,
   "metadata": {
    "id": "kJj6dHRXc_V5"
   },
   "outputs": [],
   "source": []
  },
  {
   "cell_type": "markdown",
   "metadata": {
    "id": "mDbo-FR3dFEf"
   },
   "source": [
    "##Task 6: WordCloud Text Visualization"
   ]
  },
  {
   "cell_type": "code",
   "execution_count": 37,
   "metadata": {
    "id": "vrx-4zzkdJ0n"
   },
   "outputs": [],
   "source": [
    "#Step a= Convert the columns with conditions and condition group into list using tolist() function\n",
    "#Step b= Convert the list to one single string\n",
    "#Step c= Convert the string into WordCloud\n",
    "# WordCloud imported in task 1. # WordCloud visualization needs matplotlib"
   ]
  },
  {
   "cell_type": "markdown",
   "metadata": {
    "id": "2UIhe4NiejTn"
   },
   "source": [
    "###WordCloud 1- Condition group"
   ]
  },
  {
   "cell_type": "code",
   "execution_count": null,
   "metadata": {
    "id": "8pJ_3FX4dsq8"
   },
   "outputs": [],
   "source": []
  },
  {
   "cell_type": "code",
   "execution_count": null,
   "metadata": {
    "id": "jcVmJlMqds29"
   },
   "outputs": [],
   "source": []
  },
  {
   "cell_type": "code",
   "execution_count": null,
   "metadata": {
    "id": "MtmRroiids9G"
   },
   "outputs": [],
   "source": []
  },
  {
   "cell_type": "markdown",
   "metadata": {
    "id": "2mp3iAzVesmn"
   },
   "source": [
    "###WordCloud 2- Conditions"
   ]
  },
  {
   "cell_type": "code",
   "execution_count": null,
   "metadata": {
    "id": "xo0ao9JVdtN3"
   },
   "outputs": [],
   "source": []
  },
  {
   "cell_type": "code",
   "execution_count": null,
   "metadata": {
    "id": "zN6wFWp4dtu8"
   },
   "outputs": [],
   "source": []
  },
  {
   "cell_type": "code",
   "execution_count": null,
   "metadata": {
    "id": "7-PHH3TydtzX"
   },
   "outputs": [],
   "source": []
  }
 ],
 "metadata": {
  "colab": {
   "name": "Learner_notebook.ipynb",
   "provenance": []
  },
  "kernelspec": {
   "display_name": "Python 3 (ipykernel)",
   "language": "python",
   "name": "python3"
  },
  "language_info": {
   "codemirror_mode": {
    "name": "ipython",
    "version": 3
   },
   "file_extension": ".py",
   "mimetype": "text/x-python",
   "name": "python",
   "nbconvert_exporter": "python",
   "pygments_lexer": "ipython3",
   "version": "3.10.10"
  }
 },
 "nbformat": 4,
 "nbformat_minor": 1
}
