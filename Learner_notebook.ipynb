{
  "nbformat": 4,
  "nbformat_minor": 0,
  "metadata": {
    "colab": {
      "name": "Learner_notebook.ipynb",
      "provenance": []
    },
    "kernelspec": {
      "name": "python3",
      "display_name": "Python 3"
    }
  },
  "cells": [
    {
      "cell_type": "markdown",
      "metadata": {
        "id": "oiy1E55mYBY7"
      },
      "source": [
        "#Covid-19 Pre-existing Medical Condition Analysis using Plotly Express, Choropleth maps and WordCloud Text Visualization"
      ]
    },
    {
      "cell_type": "code",
      "metadata": {
        "id": "I63l3xksXZzp"
      },
      "source": [
        "## Switch to GPU mode for faster Computation (Runtime> Change runtime> GPU)"
      ],
      "execution_count": null,
      "outputs": []
    },
    {
      "cell_type": "markdown",
      "metadata": {
        "id": "95Cg3UK6YfB4"
      },
      "source": [
        "##Task 1 : Importing all the necessary libraries"
      ]
    },
    {
      "cell_type": "code",
      "metadata": {
        "id": "tyDqe4sFYfp9"
      },
      "source": [
        "import pandas as pd       #Data analysis and Manipulation\r\n",
        "import plotly.express as px    #Data Visualization (one line of code for one graph) \r\n",
        "import matplotlib.pyplot as plt   #Data Visualization for WordCloud\r\n",
        "from wordcloud import WordCloud   #Wordcloud Text Visualization\r\n"
      ],
      "execution_count": null,
      "outputs": []
    },
    {
      "cell_type": "code",
      "metadata": {
        "id": "hG0VnKyUYzb-"
      },
      "source": [
        "import plotly.io as pio\r\n",
        "pio.renderers.default = 'colab'     # To initialize plotly (default mode of plotly if OFF as it consumes a lot of space)"
      ],
      "execution_count": null,
      "outputs": []
    },
    {
      "cell_type": "markdown",
      "metadata": {
        "id": "NFrlaaVCZ76Z"
      },
      "source": [
        "##Task 2 : Importing the dataset and Visualizing it (Dataset 1 : Worldometer dataset)"
      ]
    },
    {
      "cell_type": "code",
      "metadata": {
        "id": "FPEvhxQMZ8lB"
      },
      "source": [
        ""
      ],
      "execution_count": null,
      "outputs": []
    },
    {
      "cell_type": "code",
      "metadata": {
        "id": "bnj2tfJcadcC"
      },
      "source": [
        ""
      ],
      "execution_count": null,
      "outputs": []
    },
    {
      "cell_type": "code",
      "metadata": {
        "id": "Vhl0W7Kradqz"
      },
      "source": [
        ""
      ],
      "execution_count": null,
      "outputs": []
    },
    {
      "cell_type": "code",
      "metadata": {
        "id": "NcDp07QBaluA"
      },
      "source": [
        ""
      ],
      "execution_count": null,
      "outputs": []
    },
    {
      "cell_type": "code",
      "metadata": {
        "id": "qd0mHOxqalyq"
      },
      "source": [
        ""
      ],
      "execution_count": null,
      "outputs": []
    },
    {
      "cell_type": "code",
      "metadata": {
        "id": "WQRZAfzJam5F"
      },
      "source": [
        ""
      ],
      "execution_count": null,
      "outputs": []
    },
    {
      "cell_type": "markdown",
      "metadata": {
        "id": "eOmxA-CHazns"
      },
      "source": [
        "##Task 3: Geographic Visualization using Choropleth maps"
      ]
    },
    {
      "cell_type": "code",
      "metadata": {
        "id": "RrHNwZcKbIMZ"
      },
      "source": [
        "# A choropleth map displays divided geographical areas or regions that are coloured, shaded or patterned in relation to a data variable. \r\n",
        "#Amazing Representation of data in a map . Choropleth maps provide an easy way to visualize how a measurement varies across a geographic area.\r\n",
        "\r\n",
        "#Dataset 1\r\n",
        "#parameters= dataset, locations= ISOALPHA, color, hover_name, color_continuous_scale= [RdYlGn, Blues, Viridis...], \r\n",
        "#"
      ],
      "execution_count": null,
      "outputs": []
    },
    {
      "cell_type": "code",
      "metadata": {
        "id": "k-Ut-vPWbJgO"
      },
      "source": [
        ""
      ],
      "execution_count": null,
      "outputs": []
    },
    {
      "cell_type": "code",
      "metadata": {
        "id": "TzLU7oKJb-Qv"
      },
      "source": [
        ""
      ],
      "execution_count": null,
      "outputs": []
    },
    {
      "cell_type": "code",
      "metadata": {
        "id": "xpd8saa1bJ7I"
      },
      "source": [
        ""
      ],
      "execution_count": null,
      "outputs": []
    },
    {
      "cell_type": "markdown",
      "metadata": {
        "id": "X9AMtNC0bKWt"
      },
      "source": [
        "##Task 4: Importing and Analyzing the dataset(Dataset 2: Covid-19 Pre-existing condition Medical dataset; source: CDC,US)"
      ]
    },
    {
      "cell_type": "code",
      "metadata": {
        "id": "qtUsuHY8cWXA"
      },
      "source": [
        ""
      ],
      "execution_count": null,
      "outputs": []
    },
    {
      "cell_type": "code",
      "metadata": {
        "id": "88O3p0xjcgPV"
      },
      "source": [
        ""
      ],
      "execution_count": null,
      "outputs": []
    },
    {
      "cell_type": "code",
      "metadata": {
        "id": "GknPfLf-cgUW"
      },
      "source": [
        ""
      ],
      "execution_count": null,
      "outputs": []
    },
    {
      "cell_type": "code",
      "metadata": {
        "id": "HWPRlYORcgaN"
      },
      "source": [
        ""
      ],
      "execution_count": null,
      "outputs": []
    },
    {
      "cell_type": "markdown",
      "metadata": {
        "id": "IK6E5J-ccscZ"
      },
      "source": [
        "##Task 5: Visualizing the Pre-existing condition Medical dataset"
      ]
    },
    {
      "cell_type": "code",
      "metadata": {
        "id": "UOQiQ9u-c0dW"
      },
      "source": [
        ""
      ],
      "execution_count": null,
      "outputs": []
    },
    {
      "cell_type": "code",
      "metadata": {
        "id": "K2SuEKGdc--1"
      },
      "source": [
        ""
      ],
      "execution_count": null,
      "outputs": []
    },
    {
      "cell_type": "code",
      "metadata": {
        "id": "YmBb4kwsc_I7"
      },
      "source": [
        ""
      ],
      "execution_count": null,
      "outputs": []
    },
    {
      "cell_type": "code",
      "metadata": {
        "id": "kJj6dHRXc_V5"
      },
      "source": [
        ""
      ],
      "execution_count": null,
      "outputs": []
    },
    {
      "cell_type": "markdown",
      "metadata": {
        "id": "mDbo-FR3dFEf"
      },
      "source": [
        "##Task 6: WordCloud Text Visualization"
      ]
    },
    {
      "cell_type": "code",
      "metadata": {
        "id": "vrx-4zzkdJ0n"
      },
      "source": [
        "#Step a= Convert the columns with conditions and condition group into list using tolist() function\r\n",
        "#Step b= Convert the list to one single string\r\n",
        "#Step c= Convert the string into WordCloud\r\n",
        "# WordCloud imported in task 1. # WordCloud visualization needs matplotlib"
      ],
      "execution_count": null,
      "outputs": []
    },
    {
      "cell_type": "markdown",
      "metadata": {
        "id": "2UIhe4NiejTn"
      },
      "source": [
        "###WordCloud 1- Condition group"
      ]
    },
    {
      "cell_type": "code",
      "metadata": {
        "id": "8pJ_3FX4dsq8"
      },
      "source": [
        ""
      ],
      "execution_count": null,
      "outputs": []
    },
    {
      "cell_type": "code",
      "metadata": {
        "id": "jcVmJlMqds29"
      },
      "source": [
        ""
      ],
      "execution_count": null,
      "outputs": []
    },
    {
      "cell_type": "code",
      "metadata": {
        "id": "MtmRroiids9G"
      },
      "source": [
        ""
      ],
      "execution_count": null,
      "outputs": []
    },
    {
      "cell_type": "markdown",
      "metadata": {
        "id": "2mp3iAzVesmn"
      },
      "source": [
        "###WordCloud 2- Conditions"
      ]
    },
    {
      "cell_type": "code",
      "metadata": {
        "id": "xo0ao9JVdtN3"
      },
      "source": [
        ""
      ],
      "execution_count": null,
      "outputs": []
    },
    {
      "cell_type": "code",
      "metadata": {
        "id": "zN6wFWp4dtu8"
      },
      "source": [
        ""
      ],
      "execution_count": null,
      "outputs": []
    },
    {
      "cell_type": "code",
      "metadata": {
        "id": "7-PHH3TydtzX"
      },
      "source": [
        ""
      ],
      "execution_count": null,
      "outputs": []
    }
  ]
}